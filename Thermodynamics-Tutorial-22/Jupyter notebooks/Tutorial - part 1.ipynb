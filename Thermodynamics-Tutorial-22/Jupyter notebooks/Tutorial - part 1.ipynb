{
 "cells": [
  {
   "cell_type": "markdown",
   "metadata": {},
   "source": [
    "# Thermodynamics tutorial\n",
    "\n",
    "## Part 1 \n",
    "\n",
    "In this part you will learn how to connect to databases, vizualize structures and find stable/unstable structures at 0 K. "
   ]
  },
  {
   "cell_type": "markdown",
   "metadata": {},
   "source": [
    "#### Import module\n",
    "\n",
    "If using pymatgen for the first time open the anaconda terminal and write: pip install pymatgen"
   ]
  },
  {
   "cell_type": "code",
   "execution_count": null,
   "metadata": {},
   "outputs": [],
   "source": [
    "import pymatgen.core as pymat"
   ]
  },
  {
   "cell_type": "markdown",
   "metadata": {},
   "source": [
    "#### Search for basic properties of elements and compounds"
   ]
  },
  {
   "cell_type": "code",
   "execution_count": null,
   "metadata": {},
   "outputs": [],
   "source": [
    "#Properties of elements\n",
    "element = \"Al\"\n",
    "el = pymat.Element(element)\n",
    "print(\"The atomic mass of %s is:\" % element , el.atomic_mass)\n",
    "print(\"The melting point of %s is:\" % element, el.melting_point)\n",
    "\n",
    "#Properties of compounds\n",
    "compound = \"CuAl2\"\n",
    "al = pymat.Composition(compound)\n",
    "print(\"The weight of %s is: \" % compound, al.weight)"
   ]
  },
  {
   "cell_type": "markdown",
   "metadata": {},
   "source": [
    "#### Lets vizualize our compound using ASE (The Atomic Simulation Environment)\n",
    "\n",
    "If using ASE for the first time: open the anaconda terminal and write pip install ase \n",
    "\n",
    "In order to build our material, we need information about its crystal structure: \n",
    "\n",
    "* lattice parameter\n",
    "* angles\n",
    "* spacegroup\n",
    "* basis\n",
    "\n",
    "This can be done either by manually building the structure object, or reading it from a file (e.g. Cystallographic Information Format (CIF))"
   ]
  },
  {
   "cell_type": "code",
   "execution_count": null,
   "metadata": {},
   "outputs": [],
   "source": [
    "#Import module\n",
    "from ase.spacegroup import crystal\n",
    "\n",
    "#Lets manually input the parameters:\n",
    "\n",
    "#Lattice parameters \n",
    "a = 4.928 \n",
    "\n",
    "#Angles\n",
    "alpha = 103.828\n",
    "beta = 103.828\n",
    "gamma = 121.465\n",
    "\n",
    "spacegroup = 140\n",
    "\n",
    "basis = [(0.25,0.25,0),(0.1576,0.6576,0.8152),(0.3424,0.157,60.5)]\n",
    "\n",
    "structure = crystal(('Cu','Al','Al'), \n",
    "                  basis = basis, \n",
    "                   spacegroup = spacegroup, \n",
    "                   cellpar=[a,a,a,alpha,beta,gamma])\n"
   ]
  },
  {
   "cell_type": "code",
   "execution_count": null,
   "metadata": {},
   "outputs": [],
   "source": [
    "#Visualize. A new window will pop out for you to play with\n",
    "structure.edit()"
   ]
  },
  {
   "cell_type": "markdown",
   "metadata": {},
   "source": [
    "Lets build the structure using a CIF file.\n",
    "\n",
    "1) First we need to find file. We go to ICSD which is the world's largest database for completely identified inorganic crystal strucutres.\n",
    "https://icsd.products.fiz-karlsruhe.de/\n",
    "\n",
    "2) Search for your compound, CuAl2 in our case.\n",
    "\n",
    "3) Export CIF-file and save it in the same folder as the jupyter-notebook."
   ]
  },
  {
   "cell_type": "code",
   "execution_count": null,
   "metadata": {},
   "outputs": [],
   "source": [
    "from ase.io import read\n",
    "\n",
    "CIF_filename = 'ICSD_CuAl2.cif'\n",
    "structure_cif = read(CIF_filename)\n",
    "\n",
    "#Visualize. A new window will pop out for you to play with\n",
    "structure.edit()"
   ]
  },
  {
   "cell_type": "markdown",
   "metadata": {},
   "source": [
    "## Now lets discover the configurational space of the Cu-Al system\n",
    "\n",
    "Import necessary modules"
   ]
  },
  {
   "cell_type": "code",
   "execution_count": null,
   "metadata": {},
   "outputs": [],
   "source": [
    "from mp_api.client import MPRester\n",
    "from pymatgen.entries.compatibility import MaterialsProjectCompatibility\n",
    "from pymatgen.analysis.phase_diagram import PhaseDiagram, PDPlotter"
   ]
  },
  {
   "cell_type": "markdown",
   "metadata": {},
   "source": [
    "#### Connect to materials project\n",
    "\n",
    "1) Create an account at materialsproject.org\n",
    "\n",
    "2) Go to Dashboard\n",
    "\n",
    "3) Generate API key\n",
    "\n",
    "3) Copy your key and add it below as KEY = \"YourKey\""
   ]
  },
  {
   "cell_type": "code",
   "execution_count": null,
   "metadata": {},
   "outputs": [],
   "source": [
    "KEY = \"\"  # You must change this to your Materials API key! "
   ]
  },
  {
   "cell_type": "code",
   "execution_count": null,
   "metadata": {},
   "outputs": [],
   "source": [
    "compat = MaterialsProjectCompatibility()  #sets energy corrections and +U/pseudopotential choice\n",
    "mpr = MPRester(KEY)  # object for connecting to MP Rest interface\n",
    "\n",
    "system = [\"Al\", \"Cu\"]  #system we want to get PD for\n",
    "#system = [\"Al\", \"Cu\", \"Mg\"]  #alternative system example: ternary\n",
    "\n",
    "# Create phase diagram!\n",
    "unprocessed_entries = mpr.get_entries_in_chemsys(system)\n",
    "processed_entries = compat.process_entries(unprocessed_entries)  #filter and add energy corrections\n",
    "pd = PhaseDiagram(processed_entries)\n",
    "\n",
    "# Plot! Show only stable phases or all\n",
    "plotter = PDPlotter(pd, show_unstable=False)  \n",
    "#If you want to see all structures (even the unstable ones), set show_unstable=True\n",
    "plotter.show()"
   ]
  },
  {
   "cell_type": "code",
   "execution_count": null,
   "metadata": {},
   "outputs": [],
   "source": []
  }
 ],
 "metadata": {
  "kernelspec": {
   "display_name": "My project (student22_new4)",
   "language": "python",
   "name": "student22_new4"
  },
  "language_info": {
   "codemirror_mode": {
    "name": "ipython",
    "version": 3
   },
   "file_extension": ".py",
   "mimetype": "text/x-python",
   "name": "python",
   "nbconvert_exporter": "python",
   "pygments_lexer": "ipython3",
   "version": "3.10.6"
  }
 },
 "nbformat": 4,
 "nbformat_minor": 4
}
