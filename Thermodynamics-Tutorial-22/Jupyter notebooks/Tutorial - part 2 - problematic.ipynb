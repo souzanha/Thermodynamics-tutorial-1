{
 "cells": [
  {
   "cell_type": "markdown",
   "metadata": {},
   "source": [
    "# Thermodynamics tutorial\n",
    "\n",
    "## Part 2\n",
    "\n",
    "pourbaix diagrams \n",
    "\n",
    "Plot pourbaix diagrams describe the electrochemsitry of a system, meaning the stability of different species at different potentials and pH-values. "
   ]
  },
  {
   "cell_type": "markdown",
   "metadata": {},
   "source": [
    "### Import necessary tools from pymatgen"
   ]
  },
  {
   "cell_type": "code",
   "execution_count": null,
   "metadata": {},
   "outputs": [],
   "source": [
    "from mp_api.client import MPRester\n",
    "from pymatgen.analysis.pourbaix_diagram import PourbaixDiagram, PourbaixPlotter\n",
    "%matplotlib inline"
   ]
  },
  {
   "cell_type": "code",
   "execution_count": null,
   "metadata": {},
   "outputs": [],
   "source": [
    "from mpcontribs.client import Client\n",
    "client = Client()\n",
    "dir(client)"
   ]
  },
  {
   "cell_type": "markdown",
   "metadata": {},
   "source": [
    "Connect to materials project\n",
    "\n",
    "Use the same key that you generated in part 1."
   ]
  },
  {
   "cell_type": "code",
   "execution_count": null,
   "metadata": {},
   "outputs": [],
   "source": [
    "#Initialize the MP Rester\n",
    "MAPI_KEY = \"KEY_HERE\"\n",
    "mpr = MPRester(MAPI_KEY)"
   ]
  },
  {
   "cell_type": "code",
   "execution_count": null,
   "metadata": {},
   "outputs": [],
   "source": [
    "# Get all pourbaix entries corresponding to the Cu-O-H chemical system. O and H are there automatically.\n",
    "entries = mpr.get_pourbaix_entries([\"Cu\"])"
   ]
  },
  {
   "cell_type": "code",
   "execution_count": null,
   "metadata": {},
   "outputs": [],
   "source": [
    "# Construct the PourbaixDiagram object\n",
    "pbx = PourbaixDiagram(entries)"
   ]
  },
  {
   "cell_type": "code",
   "execution_count": null,
   "metadata": {},
   "outputs": [],
   "source": [
    "# Plot the Porubax\n",
    "plotter = PourbaixPlotter(pbx)"
   ]
  },
  {
   "cell_type": "code",
   "execution_count": null,
   "metadata": {},
   "outputs": [],
   "source": [
    "# Show the plot\n",
    "plotter.get_pourbaix_plot().show()"
   ]
  },
  {
   "cell_type": "markdown",
   "metadata": {},
   "source": [
    "#### Lets output some information from our Pourbaix calculation!"
   ]
  },
  {
   "cell_type": "code",
   "execution_count": null,
   "metadata": {},
   "outputs": [],
   "source": [
    "#Stable species at certain pH and V.\n",
    "\n",
    "pH = 10 \n",
    "V = 2\n",
    "pbx.find_stable_entry(pH, V)"
   ]
  }
 ],
 "metadata": {
  "kernelspec": {
   "display_name": "My project (student22_new4)",
   "language": "python",
   "name": "student22_new4"
  },
  "language_info": {
   "codemirror_mode": {
    "name": "ipython",
    "version": 3
   },
   "file_extension": ".py",
   "mimetype": "text/x-python",
   "name": "python",
   "nbconvert_exporter": "python",
   "pygments_lexer": "ipython3",
   "version": "3.10.6"
  }
 },
 "nbformat": 4,
 "nbformat_minor": 4
}
