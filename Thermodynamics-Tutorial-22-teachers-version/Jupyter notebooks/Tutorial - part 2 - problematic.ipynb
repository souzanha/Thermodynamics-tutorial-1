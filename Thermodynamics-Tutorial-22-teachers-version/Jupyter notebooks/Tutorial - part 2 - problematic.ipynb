{
 "cells": [
  {
   "cell_type": "markdown",
   "metadata": {},
   "source": [
    "# Thermodynamics tutorial\n",
    "\n",
    "## Part 2\n",
    "\n",
    "pourbaix diagrams \n",
    "\n",
    "Plot pourbaix diagrams describe the electrochemsitry of a system, meaning the stability of different species at different potentials and pH-values. "
   ]
  },
  {
   "cell_type": "markdown",
   "metadata": {},
   "source": [
    "### Import necessary tools from pymatgen"
   ]
  },
  {
   "cell_type": "code",
   "execution_count": 1,
   "metadata": {},
   "outputs": [
    {
     "name": "stderr",
     "output_type": "stream",
     "text": [
      "C:\\Users\\souha851\\Miniconda3\\envs\\student22_new4\\lib\\site-packages\\pymatgen\\analysis\\phase_diagram.py:26: TqdmWarning: IProgress not found. Please update jupyter and ipywidgets. See https://ipywidgets.readthedocs.io/en/stable/user_install.html\n",
      "  from tqdm.autonotebook import tqdm\n",
      "C:\\Users\\souha851\\Miniconda3\\envs\\student22_new4\\lib\\site-packages\\pkg_resources\\__init__.py:123: PkgResourcesDeprecationWarning: -PKG-VERSION is an invalid version and will not be supported in a future release\n",
      "  warnings.warn(\n"
     ]
    }
   ],
   "source": [
    "from mp_api.client import MPRester\n",
    "from pymatgen.analysis.pourbaix_diagram import PourbaixDiagram, PourbaixPlotter\n",
    "%matplotlib inline"
   ]
  },
  {
   "cell_type": "code",
   "execution_count": 4,
   "metadata": {},
   "outputs": [
    {
     "ename": "ResponseNeverReceived",
     "evalue": "[<twisted.python.failure.Failure OpenSSL.SSL.Error: [('SSL routines', 'tls_process_server_certificate', 'certificate verify failed')]>]",
     "output_type": "error",
     "traceback": [
      "\u001b[1;31m---------------------------------------------------------------------------\u001b[0m",
      "\u001b[1;31mResponseNeverReceived\u001b[0m                     Traceback (most recent call last)",
      "Cell \u001b[1;32mIn [4], line 2\u001b[0m\n\u001b[0;32m      1\u001b[0m \u001b[38;5;28;01mfrom\u001b[39;00m \u001b[38;5;21;01mmpcontribs\u001b[39;00m\u001b[38;5;21;01m.\u001b[39;00m\u001b[38;5;21;01mclient\u001b[39;00m \u001b[38;5;28;01mimport\u001b[39;00m Client\n\u001b[1;32m----> 2\u001b[0m client \u001b[38;5;241m=\u001b[39m \u001b[43mClient\u001b[49m\u001b[43m(\u001b[49m\u001b[43m)\u001b[49m\n\u001b[0;32m      3\u001b[0m \u001b[38;5;28mdir\u001b[39m(client)\n",
      "File \u001b[1;32m~\\Miniconda3\\envs\\student22_new4\\lib\\site-packages\\mpcontribs\\client\\__init__.py:616\u001b[0m, in \u001b[0;36mClient.__init__\u001b[1;34m(self, apikey, headers, host, project)\u001b[0m\n\u001b[0;32m    613\u001b[0m \u001b[38;5;28;01mif\u001b[39;00m \u001b[38;5;124m\"\u001b[39m\u001b[38;5;124msession\u001b[39m\u001b[38;5;124m\"\u001b[39m \u001b[38;5;129;01mnot\u001b[39;00m \u001b[38;5;129;01min\u001b[39;00m \u001b[38;5;28mself\u001b[39m\u001b[38;5;241m.\u001b[39m\u001b[38;5;18m__dict__\u001b[39m:\n\u001b[0;32m    614\u001b[0m     \u001b[38;5;28mself\u001b[39m\u001b[38;5;241m.\u001b[39msession \u001b[38;5;241m=\u001b[39m get_session()\n\u001b[1;32m--> 616\u001b[0m \u001b[38;5;28msuper\u001b[39m()\u001b[38;5;241m.\u001b[39m\u001b[38;5;21m__init__\u001b[39m(\u001b[38;5;28;43mself\u001b[39;49m\u001b[38;5;241;43m.\u001b[39;49m\u001b[43mcached_swagger_spec\u001b[49m)\n",
      "File \u001b[1;32m~\\Miniconda3\\envs\\student22_new4\\lib\\site-packages\\mpcontribs\\client\\__init__.py:626\u001b[0m, in \u001b[0;36mClient.cached_swagger_spec\u001b[1;34m(self)\u001b[0m\n\u001b[0;32m    624\u001b[0m \u001b[38;5;129m@property\u001b[39m\n\u001b[0;32m    625\u001b[0m \u001b[38;5;28;01mdef\u001b[39;00m \u001b[38;5;21mcached_swagger_spec\u001b[39m(\u001b[38;5;28mself\u001b[39m):\n\u001b[1;32m--> 626\u001b[0m     \u001b[38;5;28;01mreturn\u001b[39;00m \u001b[43m_load\u001b[49m\u001b[43m(\u001b[49m\u001b[38;5;28;43mself\u001b[39;49m\u001b[38;5;241;43m.\u001b[39;49m\u001b[43mprotocol\u001b[49m\u001b[43m,\u001b[49m\u001b[43m \u001b[49m\u001b[38;5;28;43mself\u001b[39;49m\u001b[38;5;241;43m.\u001b[39;49m\u001b[43mhost\u001b[49m\u001b[43m,\u001b[49m\u001b[43m \u001b[49m\u001b[38;5;28;43mself\u001b[39;49m\u001b[38;5;241;43m.\u001b[39;49m\u001b[43mheaders_json\u001b[49m\u001b[43m,\u001b[49m\u001b[43m \u001b[49m\u001b[38;5;28;43mself\u001b[39;49m\u001b[38;5;241;43m.\u001b[39;49m\u001b[43mproject\u001b[49m\u001b[43m,\u001b[49m\u001b[43m \u001b[49m\u001b[38;5;28;43mself\u001b[39;49m\u001b[38;5;241;43m.\u001b[39;49m\u001b[43mversion\u001b[49m\u001b[43m)\u001b[49m\n",
      "File \u001b[1;32m~\\Miniconda3\\envs\\student22_new4\\lib\\site-packages\\mpcontribs\\client\\__init__.py:450\u001b[0m, in \u001b[0;36m_load\u001b[1;34m(protocol, host, headers_json, project, version)\u001b[0m\n\u001b[0;32m    448\u001b[0m \u001b[38;5;28;01melse\u001b[39;00m:\n\u001b[0;32m    449\u001b[0m     loader \u001b[38;5;241m=\u001b[39m Loader(http_client)\n\u001b[1;32m--> 450\u001b[0m     spec_dict \u001b[38;5;241m=\u001b[39m \u001b[43mloader\u001b[49m\u001b[38;5;241;43m.\u001b[39;49m\u001b[43mload_spec\u001b[49m\u001b[43m(\u001b[49m\u001b[43morigin_url\u001b[49m\u001b[43m)\u001b[49m\n\u001b[0;32m    452\u001b[0m     \u001b[38;5;28;01mwith\u001b[39;00m apispec\u001b[38;5;241m.\u001b[39mopen(\u001b[38;5;124m\"\u001b[39m\u001b[38;5;124mw\u001b[39m\u001b[38;5;124m\"\u001b[39m) \u001b[38;5;28;01mas\u001b[39;00m f:\n\u001b[0;32m    453\u001b[0m         ujson\u001b[38;5;241m.\u001b[39mdump(spec_dict, f)\n",
      "File \u001b[1;32m~\\Miniconda3\\envs\\student22_new4\\lib\\site-packages\\bravado\\swagger_model.py:105\u001b[0m, in \u001b[0;36mLoader.load_spec\u001b[1;34m(self, spec_url, base_url)\u001b[0m\n\u001b[0;32m     94\u001b[0m \u001b[38;5;28;01mdef\u001b[39;00m \u001b[38;5;21mload_spec\u001b[39m(\u001b[38;5;28mself\u001b[39m, spec_url, base_url\u001b[38;5;241m=\u001b[39m\u001b[38;5;28;01mNone\u001b[39;00m):\n\u001b[0;32m     95\u001b[0m     \u001b[38;5;124;03m\"\"\"Load a Swagger Spec from the given URL\u001b[39;00m\n\u001b[0;32m     96\u001b[0m \n\u001b[0;32m     97\u001b[0m \u001b[38;5;124;03m    :param spec_url: URL to swagger.json\u001b[39;00m\n\u001b[0;32m     98\u001b[0m \u001b[38;5;124;03m    :param base_url: TODO: need this?\u001b[39;00m\n\u001b[0;32m     99\u001b[0m \u001b[38;5;124;03m    :returns: json spec in dict form\u001b[39;00m\n\u001b[0;32m    100\u001b[0m \u001b[38;5;124;03m    \"\"\"\u001b[39;00m\n\u001b[0;32m    101\u001b[0m     response \u001b[38;5;241m=\u001b[39m \u001b[43mrequest\u001b[49m\u001b[43m(\u001b[49m\n\u001b[0;32m    102\u001b[0m \u001b[43m        \u001b[49m\u001b[38;5;28;43mself\u001b[39;49m\u001b[38;5;241;43m.\u001b[39;49m\u001b[43mhttp_client\u001b[49m\u001b[43m,\u001b[49m\n\u001b[0;32m    103\u001b[0m \u001b[43m        \u001b[49m\u001b[43mspec_url\u001b[49m\u001b[43m,\u001b[49m\n\u001b[0;32m    104\u001b[0m \u001b[43m        \u001b[49m\u001b[38;5;28;43mself\u001b[39;49m\u001b[38;5;241;43m.\u001b[39;49m\u001b[43mrequest_headers\u001b[49m\u001b[43m,\u001b[49m\n\u001b[1;32m--> 105\u001b[0m \u001b[43m    \u001b[49m\u001b[43m)\u001b[49m\u001b[38;5;241;43m.\u001b[39;49m\u001b[43mresult\u001b[49m\u001b[43m(\u001b[49m\u001b[43m)\u001b[49m\n\u001b[0;32m    107\u001b[0m     content_type \u001b[38;5;241m=\u001b[39m response\u001b[38;5;241m.\u001b[39mheaders\u001b[38;5;241m.\u001b[39mget(\u001b[38;5;124m'\u001b[39m\u001b[38;5;124mcontent-type\u001b[39m\u001b[38;5;124m'\u001b[39m, \u001b[38;5;124m'\u001b[39m\u001b[38;5;124m'\u001b[39m)\u001b[38;5;241m.\u001b[39mlower()\n\u001b[0;32m    108\u001b[0m     \u001b[38;5;28;01mif\u001b[39;00m is_yaml(spec_url, content_type):\n",
      "File \u001b[1;32m~\\Miniconda3\\envs\\student22_new4\\lib\\site-packages\\bravado\\http_future.py:270\u001b[0m, in \u001b[0;36mHttpFuture.result\u001b[1;34m(self, timeout)\u001b[0m\n\u001b[0;32m    255\u001b[0m \u001b[38;5;28;01mdef\u001b[39;00m \u001b[38;5;21mresult\u001b[39m(\n\u001b[0;32m    256\u001b[0m     \u001b[38;5;28mself\u001b[39m,\n\u001b[0;32m    257\u001b[0m         timeout\u001b[38;5;241m=\u001b[39m\u001b[38;5;28;01mNone\u001b[39;00m,  \u001b[38;5;66;03m# type: typing.Optional[float]\u001b[39;00m\n\u001b[0;32m    258\u001b[0m ):\n\u001b[0;32m    259\u001b[0m     \u001b[38;5;66;03m# type: (...) -> typing.Union[T, IncomingResponse, typing.Tuple[T, IncomingResponse]]\u001b[39;00m\n\u001b[0;32m    260\u001b[0m     \u001b[38;5;124;03m\"\"\"DEPRECATED: please use the `response()` method instead.\u001b[39;00m\n\u001b[0;32m    261\u001b[0m \n\u001b[0;32m    262\u001b[0m \u001b[38;5;124;03m    Blocking call to wait for and return the unmarshalled swagger result.\u001b[39;00m\n\u001b[1;32m   (...)\u001b[0m\n\u001b[0;32m    268\u001b[0m \u001b[38;5;124;03m        to the constructor.\u001b[39;00m\n\u001b[0;32m    269\u001b[0m \u001b[38;5;124;03m    \"\"\"\u001b[39;00m\n\u001b[1;32m--> 270\u001b[0m     incoming_response \u001b[38;5;241m=\u001b[39m \u001b[38;5;28;43mself\u001b[39;49m\u001b[38;5;241;43m.\u001b[39;49m\u001b[43m_get_incoming_response\u001b[49m\u001b[43m(\u001b[49m\u001b[43mtimeout\u001b[49m\u001b[43m)\u001b[49m\n\u001b[0;32m    271\u001b[0m     swagger_result \u001b[38;5;241m=\u001b[39m \u001b[38;5;28mself\u001b[39m\u001b[38;5;241m.\u001b[39m_get_swagger_result(incoming_response)\n\u001b[0;32m    273\u001b[0m     \u001b[38;5;28;01mif\u001b[39;00m \u001b[38;5;28mself\u001b[39m\u001b[38;5;241m.\u001b[39moperation \u001b[38;5;129;01mis\u001b[39;00m \u001b[38;5;129;01mnot\u001b[39;00m \u001b[38;5;28;01mNone\u001b[39;00m:\n",
      "File \u001b[1;32m~\\Miniconda3\\envs\\student22_new4\\lib\\site-packages\\bravado\\http_future.py:124\u001b[0m, in \u001b[0;36mreraise_errors.<locals>.wrapper\u001b[1;34m(self, *args, **kwargs)\u001b[0m\n\u001b[0;32m    121\u001b[0m connection_errors \u001b[38;5;241m=\u001b[39m \u001b[38;5;28mtuple\u001b[39m(\u001b[38;5;28mself\u001b[39m\u001b[38;5;241m.\u001b[39mfuture\u001b[38;5;241m.\u001b[39mconnection_errors \u001b[38;5;129;01mor\u001b[39;00m ())\n\u001b[0;32m    123\u001b[0m \u001b[38;5;28;01mtry\u001b[39;00m:\n\u001b[1;32m--> 124\u001b[0m     \u001b[38;5;28;01mreturn\u001b[39;00m func(\u001b[38;5;28mself\u001b[39m, \u001b[38;5;241m*\u001b[39margs, \u001b[38;5;241m*\u001b[39m\u001b[38;5;241m*\u001b[39mkwargs)\n\u001b[0;32m    125\u001b[0m \u001b[38;5;28;01mexcept\u001b[39;00m connection_errors \u001b[38;5;28;01mas\u001b[39;00m exception:\n\u001b[0;32m    126\u001b[0m     \u001b[38;5;28mself\u001b[39m\u001b[38;5;241m.\u001b[39mfuture\u001b[38;5;241m.\u001b[39m_raise_connection_error(exception)\n",
      "File \u001b[1;32m~\\Miniconda3\\envs\\student22_new4\\lib\\site-packages\\bravado\\http_future.py:291\u001b[0m, in \u001b[0;36mHttpFuture._get_incoming_response\u001b[1;34m(self, timeout)\u001b[0m\n\u001b[0;32m    288\u001b[0m \u001b[38;5;129m@reraise_errors\u001b[39m\n\u001b[0;32m    289\u001b[0m \u001b[38;5;28;01mdef\u001b[39;00m \u001b[38;5;21m_get_incoming_response\u001b[39m(\u001b[38;5;28mself\u001b[39m, timeout\u001b[38;5;241m=\u001b[39m\u001b[38;5;28;01mNone\u001b[39;00m):\n\u001b[0;32m    290\u001b[0m     \u001b[38;5;66;03m# type: (typing.Optional[float]) -> IncomingResponse\u001b[39;00m\n\u001b[1;32m--> 291\u001b[0m     inner_response \u001b[38;5;241m=\u001b[39m \u001b[38;5;28;43mself\u001b[39;49m\u001b[38;5;241;43m.\u001b[39;49m\u001b[43mfuture\u001b[49m\u001b[38;5;241;43m.\u001b[39;49m\u001b[43mresult\u001b[49m\u001b[43m(\u001b[49m\u001b[43mtimeout\u001b[49m\u001b[38;5;241;43m=\u001b[39;49m\u001b[43mtimeout\u001b[49m\u001b[43m)\u001b[49m\n\u001b[0;32m    292\u001b[0m     incoming_response \u001b[38;5;241m=\u001b[39m \u001b[38;5;28mself\u001b[39m\u001b[38;5;241m.\u001b[39mresponse_adapter(inner_response)\n\u001b[0;32m    293\u001b[0m     \u001b[38;5;28;01mreturn\u001b[39;00m incoming_response\n",
      "File \u001b[1;32m~\\Miniconda3\\envs\\student22_new4\\lib\\site-packages\\bravado\\fido_client.py:127\u001b[0m, in \u001b[0;36mFidoFutureAdapter.result\u001b[1;34m(self, timeout)\u001b[0m\n\u001b[0;32m    114\u001b[0m \u001b[38;5;28;01mdef\u001b[39;00m \u001b[38;5;21mresult\u001b[39m(\u001b[38;5;28mself\u001b[39m, timeout\u001b[38;5;241m=\u001b[39m\u001b[38;5;28;01mNone\u001b[39;00m):\n\u001b[0;32m    115\u001b[0m     \u001b[38;5;66;03m# type: (typing.Optional[float]) -> T\u001b[39;00m\n\u001b[0;32m    116\u001b[0m \n\u001b[1;32m   (...)\u001b[0m\n\u001b[0;32m    124\u001b[0m     \u001b[38;5;66;03m# timeout. In this case we cancel the request and transform the\u001b[39;00m\n\u001b[0;32m    125\u001b[0m     \u001b[38;5;66;03m# `crochet.TimeoutError` into a `fido.exceptions.HttpTimeoutError`.\u001b[39;00m\n\u001b[0;32m    126\u001b[0m     \u001b[38;5;28;01mtry\u001b[39;00m:\n\u001b[1;32m--> 127\u001b[0m         \u001b[38;5;28;01mreturn\u001b[39;00m \u001b[38;5;28;43mself\u001b[39;49m\u001b[38;5;241;43m.\u001b[39;49m\u001b[43m_eventual_result\u001b[49m\u001b[38;5;241;43m.\u001b[39;49m\u001b[43mwait\u001b[49m\u001b[43m(\u001b[49m\u001b[43mtimeout\u001b[49m\u001b[38;5;241;43m=\u001b[39;49m\u001b[43mtimeout\u001b[49m\u001b[43m)\u001b[49m\n\u001b[0;32m    128\u001b[0m     \u001b[38;5;28;01mexcept\u001b[39;00m fido\u001b[38;5;241m.\u001b[39mexceptions\u001b[38;5;241m.\u001b[39mHTTPTimeoutError:\n\u001b[0;32m    129\u001b[0m         \u001b[38;5;66;03m# Since `fido.exceptions.HttpTimeoutError` is a subclass of\u001b[39;00m\n\u001b[0;32m    130\u001b[0m         \u001b[38;5;66;03m# `crochet.TimeoutError` we catch and re-throw the exception to\u001b[39;00m\n\u001b[0;32m    131\u001b[0m         \u001b[38;5;66;03m# exclude it from the `except` block below.\u001b[39;00m\n\u001b[0;32m    132\u001b[0m         \u001b[38;5;28;01mraise\u001b[39;00m\n",
      "File \u001b[1;32m~\\Miniconda3\\envs\\student22_new4\\lib\\site-packages\\crochet\\_eventloop.py:198\u001b[0m, in \u001b[0;36mEventualResult.wait\u001b[1;34m(self, timeout)\u001b[0m\n\u001b[0;32m    196\u001b[0m result \u001b[38;5;241m=\u001b[39m \u001b[38;5;28mself\u001b[39m\u001b[38;5;241m.\u001b[39m_result(timeout)\n\u001b[0;32m    197\u001b[0m \u001b[38;5;28;01mif\u001b[39;00m \u001b[38;5;28misinstance\u001b[39m(result, Failure):\n\u001b[1;32m--> 198\u001b[0m     \u001b[43mresult\u001b[49m\u001b[38;5;241;43m.\u001b[39;49m\u001b[43mraiseException\u001b[49m\u001b[43m(\u001b[49m\u001b[43m)\u001b[49m\n\u001b[0;32m    199\u001b[0m \u001b[38;5;28;01mreturn\u001b[39;00m result\n",
      "File \u001b[1;32m~\\Miniconda3\\envs\\student22_new4\\lib\\site-packages\\twisted\\python\\failure.py:504\u001b[0m, in \u001b[0;36mFailure.raiseException\u001b[1;34m(self)\u001b[0m\n\u001b[0;32m    499\u001b[0m \u001b[38;5;28;01mdef\u001b[39;00m \u001b[38;5;21mraiseException\u001b[39m(\u001b[38;5;28mself\u001b[39m) \u001b[38;5;241m-\u001b[39m\u001b[38;5;241m>\u001b[39m NoReturn:\n\u001b[0;32m    500\u001b[0m     \u001b[38;5;124;03m\"\"\"\u001b[39;00m\n\u001b[0;32m    501\u001b[0m \u001b[38;5;124;03m    raise the original exception, preserving traceback\u001b[39;00m\n\u001b[0;32m    502\u001b[0m \u001b[38;5;124;03m    information if available.\u001b[39;00m\n\u001b[0;32m    503\u001b[0m \u001b[38;5;124;03m    \"\"\"\u001b[39;00m\n\u001b[1;32m--> 504\u001b[0m     \u001b[38;5;28;01mraise\u001b[39;00m \u001b[38;5;28mself\u001b[39m\u001b[38;5;241m.\u001b[39mvalue\u001b[38;5;241m.\u001b[39mwith_traceback(\u001b[38;5;28mself\u001b[39m\u001b[38;5;241m.\u001b[39mtb)\n",
      "\u001b[1;31mResponseNeverReceived\u001b[0m: [<twisted.python.failure.Failure OpenSSL.SSL.Error: [('SSL routines', 'tls_process_server_certificate', 'certificate verify failed')]>]"
     ]
    }
   ],
   "source": [
    "from mpcontribs.client import Client\n",
    "client = Client()\n",
    "dir(client)"
   ]
  },
  {
   "cell_type": "markdown",
   "metadata": {},
   "source": [
    "Connect to materials project\n",
    "\n",
    "Use the same key that you generated in part 1."
   ]
  },
  {
   "cell_type": "code",
   "execution_count": 2,
   "metadata": {},
   "outputs": [
    {
     "name": "stderr",
     "output_type": "stream",
     "text": [
      "C:\\Users\\souha851\\Miniconda3\\envs\\student22_new4\\lib\\site-packages\\mp_api\\client\\client.py:144: builtins.UserWarning: Problem loading MPContribs client: [<twisted.python.failure.Failure OpenSSL.SSL.Error: [('SSL routines', 'tls_process_server_certificate', 'certificate verify failed')]>]\n"
     ]
    }
   ],
   "source": [
    "#Initialize the MP Rester\n",
    "MAPI_KEY = \"kSar2ODC3uR6lshME8wAs288TEzupQF4\"\n",
    "mpr = MPRester(MAPI_KEY)"
   ]
  },
  {
   "cell_type": "code",
   "execution_count": 3,
   "metadata": {},
   "outputs": [
    {
     "ename": "AttributeError",
     "evalue": "'NoneType' object has no attribute 'contributions'",
     "output_type": "error",
     "traceback": [
      "\u001b[1;31m---------------------------------------------------------------------------\u001b[0m",
      "\u001b[1;31mAttributeError\u001b[0m                            Traceback (most recent call last)",
      "Cell \u001b[1;32mIn [3], line 2\u001b[0m\n\u001b[0;32m      1\u001b[0m \u001b[38;5;66;03m# Get all pourbaix entries corresponding to the Cu-O-H chemical system. O and H are there automatically.\u001b[39;00m\n\u001b[1;32m----> 2\u001b[0m entries \u001b[38;5;241m=\u001b[39m \u001b[43mmpr\u001b[49m\u001b[38;5;241;43m.\u001b[39;49m\u001b[43mget_pourbaix_entries\u001b[49m\u001b[43m(\u001b[49m\u001b[43m[\u001b[49m\u001b[38;5;124;43m\"\u001b[39;49m\u001b[38;5;124;43mCu\u001b[39;49m\u001b[38;5;124;43m\"\u001b[39;49m\u001b[43m]\u001b[49m\u001b[43m)\u001b[49m\n",
      "File \u001b[1;32m~\\Miniconda3\\envs\\student22_new4\\lib\\site-packages\\mp_api\\client\\client.py:543\u001b[0m, in \u001b[0;36mMPRester.get_pourbaix_entries\u001b[1;34m(self, chemsys, solid_compat, use_gibbs)\u001b[0m\n\u001b[0;32m    537\u001b[0m chemsys \u001b[38;5;241m=\u001b[39m \u001b[38;5;28msorted\u001b[39m(e\u001b[38;5;241m.\u001b[39mcapitalize() \u001b[38;5;28;01mfor\u001b[39;00m e \u001b[38;5;129;01min\u001b[39;00m chemsys)\n\u001b[0;32m    539\u001b[0m \u001b[38;5;66;03m# Get ion entries first, because certain ions have reference\u001b[39;00m\n\u001b[0;32m    540\u001b[0m \u001b[38;5;66;03m# solids that aren't necessarily in the chemsys (Na2SO4)\u001b[39;00m\n\u001b[0;32m    541\u001b[0m \n\u001b[0;32m    542\u001b[0m \u001b[38;5;66;03m# download the ion reference data from MPContribs\u001b[39;00m\n\u001b[1;32m--> 543\u001b[0m ion_data \u001b[38;5;241m=\u001b[39m \u001b[38;5;28;43mself\u001b[39;49m\u001b[38;5;241;43m.\u001b[39;49m\u001b[43mget_ion_reference_data_for_chemsys\u001b[49m\u001b[43m(\u001b[49m\u001b[43mchemsys\u001b[49m\u001b[43m)\u001b[49m\n\u001b[0;32m    545\u001b[0m \u001b[38;5;66;03m# build the PhaseDiagram for get_ion_entries\u001b[39;00m\n\u001b[0;32m    546\u001b[0m ion_ref_comps \u001b[38;5;241m=\u001b[39m [\n\u001b[0;32m    547\u001b[0m     Ion\u001b[38;5;241m.\u001b[39mfrom_formula(d[\u001b[38;5;124m\"\u001b[39m\u001b[38;5;124mdata\u001b[39m\u001b[38;5;124m\"\u001b[39m][\u001b[38;5;124m\"\u001b[39m\u001b[38;5;124mRefSolid\u001b[39m\u001b[38;5;124m\"\u001b[39m])\u001b[38;5;241m.\u001b[39mcomposition \u001b[38;5;28;01mfor\u001b[39;00m d \u001b[38;5;129;01min\u001b[39;00m ion_data\n\u001b[0;32m    548\u001b[0m ]\n",
      "File \u001b[1;32m~\\Miniconda3\\envs\\student22_new4\\lib\\site-packages\\mp_api\\client\\client.py:691\u001b[0m, in \u001b[0;36mMPRester.get_ion_reference_data_for_chemsys\u001b[1;34m(self, chemsys)\u001b[0m\n\u001b[0;32m    654\u001b[0m \u001b[38;5;28;01mdef\u001b[39;00m \u001b[38;5;21mget_ion_reference_data_for_chemsys\u001b[39m(\n\u001b[0;32m    655\u001b[0m     \u001b[38;5;28mself\u001b[39m, chemsys: Union[\u001b[38;5;28mstr\u001b[39m, List]\n\u001b[0;32m    656\u001b[0m ) \u001b[38;5;241m-\u001b[39m\u001b[38;5;241m>\u001b[39m List[Dict]:\n\u001b[0;32m    657\u001b[0m     \u001b[38;5;124;03m\"\"\"\u001b[39;00m\n\u001b[0;32m    658\u001b[0m \u001b[38;5;124;03m    Download aqueous ion reference data used in the construction of Pourbaix diagrams.\u001b[39;00m\n\u001b[0;32m    659\u001b[0m \n\u001b[1;32m   (...)\u001b[0m\n\u001b[0;32m    688\u001b[0m \u001b[38;5;124;03m            compounds and aqueous species, Wiley, New York (1978)'}}\u001b[39;00m\n\u001b[0;32m    689\u001b[0m \u001b[38;5;124;03m    \"\"\"\u001b[39;00m\n\u001b[1;32m--> 691\u001b[0m     ion_data \u001b[38;5;241m=\u001b[39m \u001b[38;5;28;43mself\u001b[39;49m\u001b[38;5;241;43m.\u001b[39;49m\u001b[43mget_ion_reference_data\u001b[49m\u001b[43m(\u001b[49m\u001b[43m)\u001b[49m\n\u001b[0;32m    693\u001b[0m     \u001b[38;5;28;01mreturn\u001b[39;00m [d \u001b[38;5;28;01mfor\u001b[39;00m d \u001b[38;5;129;01min\u001b[39;00m ion_data \u001b[38;5;28;01mif\u001b[39;00m d[\u001b[38;5;124m\"\u001b[39m\u001b[38;5;124mdata\u001b[39m\u001b[38;5;124m\"\u001b[39m][\u001b[38;5;124m\"\u001b[39m\u001b[38;5;124mMajElements\u001b[39m\u001b[38;5;124m\"\u001b[39m] \u001b[38;5;129;01min\u001b[39;00m chemsys]\n",
      "File \u001b[1;32m~\\Miniconda3\\envs\\student22_new4\\lib\\site-packages\\mp_api\\client\\client.py:645\u001b[0m, in \u001b[0;36mMPRester.get_ion_reference_data\u001b[1;34m(self)\u001b[0m\n\u001b[0;32m    612\u001b[0m \u001b[38;5;129m@lru_cache\u001b[39m\n\u001b[0;32m    613\u001b[0m \u001b[38;5;28;01mdef\u001b[39;00m \u001b[38;5;21mget_ion_reference_data\u001b[39m(\u001b[38;5;28mself\u001b[39m) \u001b[38;5;241m-\u001b[39m\u001b[38;5;241m>\u001b[39m List[Dict]:\n\u001b[0;32m    614\u001b[0m     \u001b[38;5;124;03m\"\"\"\u001b[39;00m\n\u001b[0;32m    615\u001b[0m \u001b[38;5;124;03m    Download aqueous ion reference data used in the construction of Pourbaix diagrams.\u001b[39;00m\n\u001b[0;32m    616\u001b[0m \n\u001b[1;32m   (...)\u001b[0m\n\u001b[0;32m    640\u001b[0m \u001b[38;5;124;03m            compounds and aqueous species, Wiley, New York (1978)'}}\u001b[39;00m\n\u001b[0;32m    641\u001b[0m \u001b[38;5;124;03m    \"\"\"\u001b[39;00m\n\u001b[0;32m    643\u001b[0m     ion_data \u001b[38;5;241m=\u001b[39m [\n\u001b[0;32m    644\u001b[0m         d\n\u001b[1;32m--> 645\u001b[0m         \u001b[38;5;28;01mfor\u001b[39;00m d \u001b[38;5;129;01min\u001b[39;00m \u001b[38;5;28;43mself\u001b[39;49m\u001b[38;5;241;43m.\u001b[39;49m\u001b[43mcontribs\u001b[49m\u001b[38;5;241;43m.\u001b[39;49m\u001b[43mcontributions\u001b[49m\u001b[38;5;241m.\u001b[39mget_entries(\n\u001b[0;32m    646\u001b[0m             project\u001b[38;5;241m=\u001b[39m\u001b[38;5;124m\"\u001b[39m\u001b[38;5;124mion_ref_data\u001b[39m\u001b[38;5;124m\"\u001b[39m,\n\u001b[0;32m    647\u001b[0m             fields\u001b[38;5;241m=\u001b[39m[\u001b[38;5;124m\"\u001b[39m\u001b[38;5;124midentifier\u001b[39m\u001b[38;5;124m\"\u001b[39m, \u001b[38;5;124m\"\u001b[39m\u001b[38;5;124mformula\u001b[39m\u001b[38;5;124m\"\u001b[39m, \u001b[38;5;124m\"\u001b[39m\u001b[38;5;124mdata\u001b[39m\u001b[38;5;124m\"\u001b[39m],\n\u001b[0;32m    648\u001b[0m             per_page\u001b[38;5;241m=\u001b[39m\u001b[38;5;241m500\u001b[39m,\n\u001b[0;32m    649\u001b[0m         )\u001b[38;5;241m.\u001b[39mresult()[\u001b[38;5;124m\"\u001b[39m\u001b[38;5;124mdata\u001b[39m\u001b[38;5;124m\"\u001b[39m]\n\u001b[0;32m    650\u001b[0m     ]\n\u001b[0;32m    652\u001b[0m     \u001b[38;5;28;01mreturn\u001b[39;00m ion_data\n",
      "\u001b[1;31mAttributeError\u001b[0m: 'NoneType' object has no attribute 'contributions'"
     ]
    }
   ],
   "source": [
    "# Get all pourbaix entries corresponding to the Cu-O-H chemical system. O and H are there automatically.\n",
    "entries = mpr.get_pourbaix_entries([\"Cu\"])"
   ]
  },
  {
   "cell_type": "code",
   "execution_count": null,
   "metadata": {},
   "outputs": [],
   "source": [
    "# Construct the PourbaixDiagram object\n",
    "pbx = PourbaixDiagram(entries)"
   ]
  },
  {
   "cell_type": "code",
   "execution_count": null,
   "metadata": {},
   "outputs": [],
   "source": [
    "# Plot the Porubax\n",
    "plotter = PourbaixPlotter(pbx)"
   ]
  },
  {
   "cell_type": "code",
   "execution_count": null,
   "metadata": {},
   "outputs": [],
   "source": [
    "# Show the plot\n",
    "plotter.get_pourbaix_plot().show()"
   ]
  },
  {
   "cell_type": "markdown",
   "metadata": {},
   "source": [
    "#### Lets output some information from our Pourbaix calculation!"
   ]
  },
  {
   "cell_type": "code",
   "execution_count": null,
   "metadata": {},
   "outputs": [],
   "source": [
    "#Stable species at certain pH and V.\n",
    "\n",
    "pH = 10 \n",
    "V = 2\n",
    "pbx.find_stable_entry(pH, V)"
   ]
  }
 ],
 "metadata": {
  "kernelspec": {
   "display_name": "My project (student22_new4)",
   "language": "python",
   "name": "student22_new4"
  },
  "language_info": {
   "codemirror_mode": {
    "name": "ipython",
    "version": 3
   },
   "file_extension": ".py",
   "mimetype": "text/x-python",
   "name": "python",
   "nbconvert_exporter": "python",
   "pygments_lexer": "ipython3",
   "version": "3.10.6"
  }
 },
 "nbformat": 4,
 "nbformat_minor": 4
}
