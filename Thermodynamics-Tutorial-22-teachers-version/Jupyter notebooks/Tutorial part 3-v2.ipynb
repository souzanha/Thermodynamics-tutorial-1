{
 "cells": [
  {
   "cell_type": "markdown",
   "metadata": {},
   "source": [
    "# Thermodynamics tutorial\n",
    "\n",
    "### Part 3\n",
    "\n",
    "Plot phase diagrams using a CALPHAD database\n",
    "\n"
   ]
  },
  {
   "cell_type": "markdown",
   "metadata": {},
   "source": [
    "### Import modules"
   ]
  },
  {
   "cell_type": "code",
   "execution_count": null,
   "metadata": {},
   "outputs": [],
   "source": [
    "%matplotlib inline\n",
    "import matplotlib.pyplot as plt\n",
    "import numpy as np\n",
    "import warnings\n",
    "warnings.filterwarnings(\"ignore\", category=RuntimeWarning) \n",
    "\n",
    "from pycalphad import Database, binplot\n",
    "import pycalphad.variables as v"
   ]
  },
  {
   "cell_type": "markdown",
   "metadata": {},
   "source": [
    "## The CALPHAD methodology"
   ]
  },
  {
   "cell_type": "markdown",
   "metadata": {},
   "source": [
    "1) Define a function for the Gibbs model of the phases of interest"
   ]
  },
  {
   "cell_type": "code",
   "execution_count": null,
   "metadata": {},
   "outputs": [],
   "source": [
    "def gibbs_function_solution_phases(R,T,steps,elements,G_0,L):\n",
    "    x = np.linspace(0, 1.0, num=steps)\n",
    "    x_cu = x\n",
    "    x_al = 1-x\n",
    "    X = np.array([x_al,x_cu])\n",
    "    G = np.zeros(np.shape(x))\n",
    "    for i in range(np.shape(elements)[0]):\n",
    "        G+= (X[i]*G_0[i]) + (R*T*X[i]*np.log(X[i]))\n",
    "    #Try with and without the excess term\n",
    "    for j in range(np.shape(L)[0]):\n",
    "        G+=X[0]*X[1]*((X[0]-X[1])**j)*L[j]\n",
    "    return G"
   ]
  },
  {
   "cell_type": "markdown",
   "metadata": {},
   "source": [
    "2) Give data"
   ]
  },
  {
   "cell_type": "code",
   "execution_count": null,
   "metadata": {
    "scrolled": false
   },
   "outputs": [],
   "source": [
    "R = 8.3145\n",
    "T = 870\n",
    "steps = 100\n",
    "elements = [\"Al\", \"Cu\"]\n",
    "\n",
    "\n",
    "#*-*-*-*-*-*-*-*-*-*-*-*-*-*-*-*-*-*-*-*-*-*-*-*-*-*-*-*-*-*-*-*-*-*-*-*-*-*-*-*-*-*-*-*-*-*-*-*\n",
    "#                  L I Q U I D\n",
    "#*-*-*-*-*-*-*-*-*-*-*-*-*-*-*-*-*-*-*-*-*-*-*-*-*-*-*-*-*-*-*-*-*-*-*-*-*-*-*-*-*-*-*-*-*-*-*-*\n",
    "L_alcu_liq_0 = 298.15-67094 + 8.555*T\n",
    "L_alcu_liq_1 = 298.15+32148-7.118*T\n",
    "L_alcu_liq_2 = 298.15+5915-5.889*T\n",
    "L_alcu_liq_3 = 298.15-8175+6.049*T\n",
    "L_liq = np.array([L_alcu_liq_0, L_alcu_liq_1, L_alcu_liq_2, L_alcu_liq_3])\n",
    "\n",
    "if 298.15<T and T<700:\n",
    "    G_al_liq_0 = 298.15+3028.879+125.251171*T-24.3671976*T*np.log(T)-1.884662E-3*T**2-0.877664E-6*T**3+74092*T**(-1)+79.337E-21*T**7\n",
    "if 700 < T and T < 933.47:\n",
    "    G_al_liq_0 = 298.15-271.21+211.206579*T-38.5844296*T*np.log(T)+18.531982E-3*T**2-5.764227E-6*T**3+74092*T**(-1)+79.337E-21*T**7\n",
    "if 933.47< T and T < 2900:\n",
    "    G_al_liq_0 = 298.15-795.996+177.430178*T-31.748192*T*np.log(T) \n",
    "    \n",
    "if 298.15<T and T<1357.77:\n",
    "    G_cu_liq_0 = 298.15+5194.277+120.973331*T-24.112392*T*np.log(T)-2.65684E-3*T**2+0.129223E-6*T**3+52478*T**(-1)-584.9E-23*T**7;\n",
    "if 1357.77 < T and T < 3200:\n",
    "    G_cu_liq_0 = 298.15-46.545+173.881484*T-31.38*T*np.log(T)\n",
    "    \n",
    "G_0_liq = np.array([G_al_liq_0,G_cu_liq_0])\n",
    "\n",
    "\n",
    "#*-*-*-*-*-*-*-*-*-*-*-*-*-*-*-*-*-*-*-*-*-*-*-*-*-*-*-*-*-*-*-*-*-*-*-*-*-*-*-*-*-*-*-*-*-*-*-*\n",
    "#                  F C C _ A l\n",
    "#*-*-*-*-*-*-*-*-*-*-*-*-*-*-*-*-*-*-*-*-*-*-*-*-*-*-*-*-*-*-*-*-*-*-*-*-*-*-*-*-*-*-*-*-*-*-*-*\n",
    "L_alcu_fcc_al_0 = 298.15-53520+2*T\n",
    "L_alcu_fcc_al_1 = 298.15+38590-2*T\n",
    "L_alcu_fcc_al_2 = 298.15+1170\n",
    "L_fcc = np.array([L_alcu_fcc_al_0, L_alcu_fcc_al_1, L_alcu_fcc_al_2])\n",
    "\n",
    "if 290.15<T and T <700:\n",
    "    G_al_fcc_0 = 298.15 - 7976.15 + 137.093038*T-24.3671976*T*np.log(T)-1.884662e-3*T**2-0.877664e-6*T**3 + 74092*T**(-1)\n",
    "if 700<T and T <933.47:\n",
    "    G_al_fcc_0 = 298.15 -11276.24 + 223.048446*T-38.5844296*T*np.log(T)+18.531982e-3*T**2-5.764227e-6*T**3+74092*T**(-1)\n",
    "if 933.47 < T and T<2900:\n",
    "    G_al_fcc_0 = 298.15-11278.378 + 188.684153 * T -31.748192*T*np.log(T) - 1.231e28*T**(-9)\n",
    "    \n",
    "if 290.15<T and T <1357.77:\n",
    "    G_cu_fcc_0 = 298.15-7770.458+130.485235*T-24.112392*T*np.log(T)-2.65684E-3*T**2+0.129223E-6*T**3+52478*T**(-1)\n",
    "if 1357.77<T and T <3200:\n",
    "    G_cu_fcc_0 = 298.15 -13542.026+183.803828*T-31.38*T*np.log(T)+364.2E27*T**(-9)\n",
    "    \n",
    "G_0_fcc = np.array([G_al_fcc_0,G_cu_fcc_0])\n"
   ]
  },
  {
   "cell_type": "markdown",
   "metadata": {},
   "source": [
    "3) Calculate the Gibbs curves and plot data"
   ]
  },
  {
   "cell_type": "code",
   "execution_count": null,
   "metadata": {},
   "outputs": [],
   "source": [
    "#calculate the gibbs energy curves\n",
    "G_fcc= gibbs_function_solution_phases(R,T,steps,elements,G_0_fcc,L_fcc)\n",
    "G_liq= gibbs_function_solution_phases(R,T,steps,elements,G_0_liq,L_liq)\n",
    "\n",
    "x = np.linspace(0, 1.0, num=steps)\n",
    "\n",
    "#plot\n",
    "fig, ax = plt.subplots() #figsize=(10,10)\n",
    "\n",
    "ax.plot(x,G_fcc, label=\"fcc_al\", color=\"blue\")\n",
    "ax.plot(x,G_liq,label=\"liquid\",color=\"red\")\n",
    "\n",
    "plt.xlabel(\"x_cu\")\n",
    "plt.ylabel(\"gibbs free energ\")\n",
    "ax.title.set_text(\"T= % d K\" % T)\n",
    "#x.set_xlim(0,0.1)\n",
    "plt.legend()\n",
    "plt.show()\n"
   ]
  },
  {
   "cell_type": "markdown",
   "metadata": {},
   "source": [
    "## Find CALPHAD database\n",
    "\n",
    "This can be made easier by direct input of a database\n",
    "\n",
    "Go to TDB DB (Thermodynamcs database database) https://avdwgroup.engin.brown.edu/\n",
    "\n",
    "Search for the system you're interested in \n",
    "\n",
    "Download .tdb file and put it in the same folder as your Jupyter notebook"
   ]
  },
  {
   "cell_type": "code",
   "execution_count": null,
   "metadata": {},
   "outputs": [],
   "source": [
    "#Load database\n",
    "dbf = Database('Al-Cu.tdb') #https://www.sciencedirect.com/science/article/pii/S0925838809019537?via%3Dihub"
   ]
  },
  {
   "cell_type": "code",
   "execution_count": null,
   "metadata": {},
   "outputs": [],
   "source": [
    "#Print phases in the thermodynamic database\n",
    "phases = dbf.phases.keys()\n",
    "print(phases)\n",
    "\n",
    "#The name of the phases are usually the conventional ones\n",
    "#To know their crystal structure one will have to read the database file or the article from which the data came from"
   ]
  },
  {
   "cell_type": "code",
   "execution_count": null,
   "metadata": {},
   "outputs": [],
   "source": [
    "#Generate the curves using pycalphad\n",
    "import matplotlib.pyplot as plt\n",
    "from pycalphad import equilibrium\n",
    "from pycalphad import Database, Model\n",
    "import pycalphad.variables as v\n",
    "import numpy as np\n",
    "\n",
    "db = Database('Al-Cu.tdb')\n",
    "T = 870\n",
    "eq_liq = equilibrium(db, ['AL', 'CU'], ['LIQUID'], { v.X('CU'):(0, 1, 0.01),v.T: T, v.P: 101325})\n",
    "eq_fcc = equilibrium(db, ['AL', 'CU'], ['FCC'], { v.X('CU'):(0, 1, 0.01),v.T: 870, v.P: 101325})\n",
    "\n",
    "fig, ax = plt.subplots()\n",
    "\n",
    "ax.plot(eq_liq['X_CU'].values, eq_liq['GM'].values.flatten(), label = \"liquid\",color=\"red\")\n",
    "ax.plot(eq_fcc['X_CU'].values, eq_fcc['GM'].values.flatten(), label = \"fcc\", color=\"blue\")\n",
    "\n",
    "plt.xlabel(\"x_cu\")\n",
    "plt.ylabel(\"gibbs free energ\")\n",
    "ax.title.set_text(\"T= % d K\" % T)\n",
    "plt.legend()\n",
    "plt.show()"
   ]
  },
  {
   "cell_type": "code",
   "execution_count": null,
   "metadata": {},
   "outputs": [],
   "source": [
    "#Set conditions\n",
    "conds = {\n",
    "    v.N: 1, v.P: 101325,\n",
    "    v.T: (300, 1400, 10),  # (start, stop, step)\n",
    "    v.X('CU'): (0, 1.0, 0.01),   # (start, stop, step)\n",
    "}\n",
    "\n",
    "#Set components, here we have aluminium, copper and vacancies\n",
    "comps = ['AL', 'CU', 'VA']\n",
    "\n",
    "#Create a matplotlib Figure object\n",
    "fig = plt.figure(figsize=(9,6))\n",
    "axes = fig.gca()\n",
    "\n",
    "#Compute the phase diagram\n",
    "binplot(dbf, comps , phases, conds, plot_kwargs={'ax': axes})\n",
    "\n",
    "#Plot!\n",
    "plt.show()"
   ]
  },
  {
   "cell_type": "markdown",
   "metadata": {},
   "source": [
    "## Lets play around with the calphad database and the phase diagram\n",
    "\n",
    "This will give us a better understanding of our system and what possible phases we may expect at different conditions"
   ]
  },
  {
   "cell_type": "markdown",
   "metadata": {},
   "source": [
    "#### How does the amount of each phase change depending on temperature?\n",
    "\n",
    "We can easily do this ourselves manually by using the lever rule. "
   ]
  },
  {
   "cell_type": "code",
   "execution_count": null,
   "metadata": {},
   "outputs": [],
   "source": [
    "from pycalphad.plot.utils import phase_legend\n",
    "\n",
    "# For specifying in terms of mass fractions; can also specify in mole fractions using v.X\n",
    "cu_composition = 0.01 # mole fraction\n",
    "\n",
    "start_temp = 400 # K\n",
    "end_temp = 1000 # K\n",
    "step_size = 10 # K\n",
    "\n",
    "eq = equilibrium(dbf, comps, phases, {v.N: 1, v.P: 101325, v.T: (start_temp, end_temp, step_size), v.X('CU'): cu_composition})\n",
    "\n",
    "phases = sorted(set(eq.Phase.values.flatten()) - {''})\n",
    "\n",
    "print(\"The phases that are in equilibrium are:\", phases)\n",
    "\n",
    "\n",
    "#Now, plot their fraction with changing temperature\n",
    "phase_handles, phasemap = phase_legend(phases)\n",
    "\n",
    "plt.gca().set_title('Phase fractions vs T')\n",
    "plt.gca().set_xlabel('Temperature (K)')\n",
    "plt.gca().set_ylabel('Phase Fraction')\n",
    "\n",
    "for name in phases:\n",
    "    plt.scatter(eq.T.broadcast_like(eq.NP), eq.NP.where(eq.Phase == name), color=phasemap[name])\n",
    "    \n",
    "plt.gca().legend(phase_handles, phases, loc='upper left')"
   ]
  }
 ],
 "metadata": {
  "kernelspec": {
   "display_name": "My project (student22_new3)",
   "language": "python",
   "name": "student22_new3"
  },
  "language_info": {
   "codemirror_mode": {
    "name": "ipython",
    "version": 3
   },
   "file_extension": ".py",
   "mimetype": "text/x-python",
   "name": "python",
   "nbconvert_exporter": "python",
   "pygments_lexer": "ipython3",
   "version": "3.10.6"
  }
 },
 "nbformat": 4,
 "nbformat_minor": 4
}
